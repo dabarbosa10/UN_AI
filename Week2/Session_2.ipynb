{
 "cells": [
  {
   "cell_type": "code",
   "execution_count": 1,
   "metadata": {},
   "outputs": [],
   "source": [
    "import numpy as np"
   ]
  },
  {
   "cell_type": "code",
   "execution_count": 7,
   "metadata": {},
   "outputs": [
    {
     "name": "stdout",
     "output_type": "stream",
     "text": [
      "f( 1.0 , 1.0 ) = 2.0\n",
      "f( 1.0 , 2.0 ) = 3.0\n",
      "f( 1.0 , 3.0 ) = 4.0\n",
      "f( 1.0 , 4.0 ) = 5.0\n",
      "f( 1.0 , 5.0 ) = 6.0\n",
      "f( 1.0 , 6.0 ) = 7.0\n",
      "f( 2.0 , 1.0 ) = 3.0\n",
      "f( 2.0 , 2.0 ) = 4.0\n",
      "f( 2.0 , 3.0 ) = 5.0\n",
      "f( 2.0 , 4.0 ) = 6.0\n",
      "f( 2.0 , 5.0 ) = 7.0\n",
      "f( 2.0 , 6.0 ) = 8.0\n",
      "f( 3.0 , 1.0 ) = 4.0\n",
      "f( 3.0 , 2.0 ) = 5.0\n",
      "f( 3.0 , 3.0 ) = 6.0\n",
      "f( 3.0 , 4.0 ) = 7.0\n",
      "f( 3.0 , 5.0 ) = 8.0\n",
      "f( 3.0 , 6.0 ) = 9.0\n",
      "f( 4.0 , 1.0 ) = 5.0\n",
      "f( 4.0 , 2.0 ) = 6.0\n",
      "f( 4.0 , 3.0 ) = 7.0\n",
      "f( 4.0 , 4.0 ) = 8.0\n",
      "f( 4.0 , 5.0 ) = 9.0\n",
      "f( 4.0 , 6.0 ) = 10.0\n",
      "f( 5.0 , 1.0 ) = 6.0\n",
      "f( 5.0 , 2.0 ) = 7.0\n",
      "f( 5.0 , 3.0 ) = 8.0\n",
      "f( 5.0 , 4.0 ) = 9.0\n",
      "f( 5.0 , 5.0 ) = 10.0\n",
      "f( 5.0 , 6.0 ) = 11.0\n",
      "f( 6.0 , 1.0 ) = 7.0\n",
      "f( 6.0 , 2.0 ) = 8.0\n",
      "f( 6.0 , 3.0 ) = 9.0\n",
      "f( 6.0 , 4.0 ) = 10.0\n",
      "f( 6.0 , 5.0 ) = 11.0\n",
      "f( 6.0 , 6.0 ) = 12.0\n"
     ]
    }
   ],
   "source": [
    "M=np.zeros((36,2))\n",
    "k=0\n",
    "for i in range(1,7):\n",
    "    for j in range(1,7):\n",
    "        M[k,]=(i,j)\n",
    "        k+=1\n",
    "\n",
    "#Compute the random variable:\n",
    "f=np.zeros(36)\n",
    "for k in range(36):\n",
    "    f[k]=M[k,0]+M[k,1]\n",
    "    \n",
    "for k in range(36):\n",
    "    print('f(',M[k,0], ',', M[k,1], ') =', f[k])\n",
    "    "
   ]
  },
  {
   "cell_type": "code",
   "execution_count": 8,
   "metadata": {},
   "outputs": [
    {
     "name": "stdout",
     "output_type": "stream",
     "text": [
      "[ 2.  3.  4.  5.  6.  7.  8.  9. 10. 11. 12.]\n"
     ]
    }
   ],
   "source": [
    "print(np.unique(f))"
   ]
  },
  {
   "cell_type": "code",
   "execution_count": 13,
   "metadata": {},
   "outputs": [],
   "source": [
    "def CountFreq(mlist):\n",
    "    freq={} #Create dictionary\n",
    "    for item in mlist:\n",
    "        if (item in freq):\n",
    "            freq[item]+=1\n",
    "        else:\n",
    "            freq[item]=1\n",
    "    return freq"
   ]
  },
  {
   "cell_type": "code",
   "execution_count": 14,
   "metadata": {},
   "outputs": [],
   "source": [
    "freq=CountFreq(f)"
   ]
  },
  {
   "cell_type": "code",
   "execution_count": 16,
   "metadata": {},
   "outputs": [
    {
     "name": "stdout",
     "output_type": "stream",
     "text": [
      " 2 :  1\n",
      " 3 :  2\n",
      " 4 :  3\n",
      " 5 :  4\n",
      " 6 :  5\n",
      " 7 :  6\n",
      " 8 :  5\n",
      " 9 :  4\n",
      " 10 :  3\n",
      " 11 :  2\n",
      " 12 :  1\n"
     ]
    }
   ],
   "source": [
    "for key, value in freq.items():\n",
    "    print (\"% d : % d\"%(key, value)) "
   ]
  },
  {
   "cell_type": "code",
   "execution_count": 18,
   "metadata": {},
   "outputs": [
    {
     "data": {
      "text/plain": [
       "{2.0: 1,\n",
       " 3.0: 2,\n",
       " 4.0: 3,\n",
       " 5.0: 4,\n",
       " 6.0: 5,\n",
       " 7.0: 6,\n",
       " 8.0: 5,\n",
       " 9.0: 4,\n",
       " 10.0: 3,\n",
       " 11.0: 2,\n",
       " 12.0: 1}"
      ]
     },
     "execution_count": 18,
     "metadata": {},
     "output_type": "execute_result"
    }
   ],
   "source": [
    "freq"
   ]
  },
  {
   "cell_type": "markdown",
   "metadata": {},
   "source": [
    "Consideremos un conjunto W={A,B,B,C,A,A}"
   ]
  },
  {
   "cell_type": "code",
   "execution_count": 21,
   "metadata": {},
   "outputs": [
    {
     "data": {
      "text/plain": [
       "2"
      ]
     },
     "execution_count": 21,
     "metadata": {},
     "output_type": "execute_result"
    }
   ],
   "source": [
    "W=['A','B','B','C','A','A']\n",
    "frec=CountFreq(W)\n",
    "frec['B']"
   ]
  },
  {
   "cell_type": "code",
   "execution_count": 23,
   "metadata": {},
   "outputs": [
    {
     "data": {
      "image/png": "[encoded data removed]",
      "text/plain": [
       "<Figure size 432x288 with 1 Axes>"
      ]
     },
     "metadata": {
      "needs_background": "light"
     },
     "output_type": "display_data"
    }
   ],
   "source": [
    "import matplotlib.pyplot as plt\n",
    "plt.hist(f,bins=11,density=True)\n",
    "plt.title('Función de probabilidad de la Variable Aleatoria')\n",
    "plt.xlabel('Valores de $f$')\n",
    "plt.ylabel('Probabilidad')\n",
    "plt.grid()\n"
   ]
  },
  {
   "cell_type": "code",
   "execution_count": null,
   "metadata": {},
   "outputs": [],
   "source": []
  }
 ],
 "metadata": {
  "kernelspec": {
   "display_name": "Python 3",
   "language": "python",
   "name": "python3"
  },
  "language_info": {
   "codemirror_mode": {
    "name": "ipython",
    "version": 3
   },
   "file_extension": ".py",
   "mimetype": "text/x-python",
   "name": "python",
   "nbconvert_exporter": "python",
   "pygments_lexer": "ipython3",
   "version": "3.7.6"
  }
 },
 "nbformat": 4,
 "nbformat_minor": 4
}
